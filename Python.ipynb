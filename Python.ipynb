{
  "nbformat": 4,
  "nbformat_minor": 0,
  "metadata": {
    "colab": {
      "provenance": [],
      "authorship_tag": "ABX9TyO0OxyD4FRe9SFUbFXsHMcl",
      "include_colab_link": true
    },
    "kernelspec": {
      "name": "python3",
      "display_name": "Python 3"
    },
    "language_info": {
      "name": "python"
    }
  },
  "cells": [
    {
      "cell_type": "markdown",
      "metadata": {
        "id": "view-in-github",
        "colab_type": "text"
      },
      "source": [
        "<a href=\"https://colab.research.google.com/github/arnoldkiirya1/Python_Part_1/blob/main/Python.ipynb\" target=\"_parent\"><img src=\"https://colab.research.google.com/assets/colab-badge.svg\" alt=\"Open In Colab\"/></a>"
      ]
    },
    {
      "cell_type": "code",
      "execution_count": null,
      "metadata": {
        "id": "-n1wHjTgw1Do",
        "outputId": "9a07910a-63c8-485f-bad5-ef77dce81966",
        "colab": {
          "base_uri": "https://localhost:8080/"
        }
      },
      "outputs": [
        {
          "output_type": "execute_result",
          "data": {
            "text/plain": [
              "str"
            ]
          },
          "metadata": {},
          "execution_count": 1
        }
      ],
      "source": [
        "# Getting age \n",
        "name = 'Arnold'\n",
        "type(name) # type('Arnold')"
      ]
    },
    {
      "cell_type": "code",
      "source": [
        "# Number\n",
        "a = 2\n",
        "type(a) # type(2)"
      ],
      "metadata": {
        "id": "1QrhbSAjFSOw",
        "outputId": "950af2b2-f2d5-493b-c312-c768cb373ee8",
        "colab": {
          "base_uri": "https://localhost:8080/"
        }
      },
      "execution_count": null,
      "outputs": [
        {
          "output_type": "execute_result",
          "data": {
            "text/plain": [
              "int"
            ]
          },
          "metadata": {},
          "execution_count": 2
        }
      ]
    },
    {
      "cell_type": "code",
      "source": [
        "# Float\n",
        "b = 3.14\n",
        "type(b)"
      ],
      "metadata": {
        "id": "DpLEvmA3FdxS",
        "outputId": "25c4fe10-57c9-415d-9520-1278f2f15a8f",
        "colab": {
          "base_uri": "https://localhost:8080/"
        }
      },
      "execution_count": null,
      "outputs": [
        {
          "output_type": "execute_result",
          "data": {
            "text/plain": [
              "float"
            ]
          },
          "metadata": {},
          "execution_count": 3
        }
      ]
    },
    {
      "cell_type": "code",
      "source": [
        "# Printing Messages\n",
        "\n",
        "print('My name is Arnold')\n",
        "\n",
        "name = 'Arnold'\n",
        "print(name)\n",
        "\n",
        "#Common mistake\n",
        "print('name')\n",
        "\n",
        "# Combile tow messages\n",
        "print('My name is', name)"
      ],
      "metadata": {
        "id": "Ror7bJkuFoqz",
        "outputId": "f26fdfc3-6560-41c9-c25c-6ff00960c5f4",
        "colab": {
          "base_uri": "https://localhost:8080/"
        }
      },
      "execution_count": null,
      "outputs": [
        {
          "output_type": "stream",
          "name": "stdout",
          "text": [
            "My name is Arnold\n",
            "Arnold\n",
            "name\n",
            "My name is Arnold\n"
          ]
        }
      ]
    },
    {
      "cell_type": "code",
      "source": [
        "age = input('Enter your age?')"
      ],
      "metadata": {
        "id": "7hUUlZQMGiyK",
        "outputId": "dbf0ec79-bd96-4b80-9774-64f8647f4b29",
        "colab": {
          "base_uri": "https://localhost:8080/"
        }
      },
      "execution_count": null,
      "outputs": [
        {
          "name": "stdout",
          "output_type": "stream",
          "text": [
            "Enter your age?35\n"
          ]
        }
      ]
    },
    {
      "cell_type": "code",
      "source": [
        "type(age)"
      ],
      "metadata": {
        "id": "Tag8oIhrHDKS",
        "outputId": "94efe3e7-f2c2-47c2-b74e-a6631d360a4e",
        "colab": {
          "base_uri": "https://localhost:8080/"
        }
      },
      "execution_count": null,
      "outputs": [
        {
          "output_type": "execute_result",
          "data": {
            "text/plain": [
              "str"
            ]
          },
          "metadata": {},
          "execution_count": 12
        }
      ]
    },
    {
      "cell_type": "code",
      "source": [
        "int(age) + 2"
      ],
      "metadata": {
        "id": "l7-0UrXqHLQL",
        "outputId": "5ac61cfc-c2f6-42c1-8f11-a13394f4f284",
        "colab": {
          "base_uri": "https://localhost:8080/"
        }
      },
      "execution_count": null,
      "outputs": [
        {
          "output_type": "execute_result",
          "data": {
            "text/plain": [
              "37"
            ]
          },
          "metadata": {},
          "execution_count": 14
        }
      ]
    },
    {
      "cell_type": "code",
      "source": [
        "float(age)"
      ],
      "metadata": {
        "id": "S9Ku67fhHmnj",
        "outputId": "ab69f12b-10c3-4640-c0de-ec6a4eaa9f3a",
        "colab": {
          "base_uri": "https://localhost:8080/"
        }
      },
      "execution_count": null,
      "outputs": [
        {
          "output_type": "execute_result",
          "data": {
            "text/plain": [
              "35.0"
            ]
          },
          "metadata": {},
          "execution_count": 15
        }
      ]
    },
    {
      "cell_type": "code",
      "source": [
        "b = 3.66\n",
        "int(b)"
      ],
      "metadata": {
        "id": "Gtwsyx5JHq5r",
        "outputId": "96385220-832c-498b-fba2-8e39842d7bbb",
        "colab": {
          "base_uri": "https://localhost:8080/"
        }
      },
      "execution_count": null,
      "outputs": [
        {
          "output_type": "execute_result",
          "data": {
            "text/plain": [
              "3"
            ]
          },
          "metadata": {},
          "execution_count": 16
        }
      ]
    },
    {
      "cell_type": "code",
      "source": [
        "print('In 5 years, your age will be', int(age) + 5)"
      ],
      "metadata": {
        "id": "C5bORD63H_Cb",
        "outputId": "6dea2e51-d709-4af9-b802-5f5c0f916ae3",
        "colab": {
          "base_uri": "https://localhost:8080/"
        }
      },
      "execution_count": null,
      "outputs": [
        {
          "output_type": "stream",
          "name": "stdout",
          "text": [
            "In 5 years, your age will be 40\n"
          ]
        }
      ]
    }
  ]
}